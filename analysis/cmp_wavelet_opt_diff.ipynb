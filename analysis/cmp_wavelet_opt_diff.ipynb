{
 "cells": [
  {
   "cell_type": "code",
   "execution_count": 1,
   "metadata": {},
   "outputs": [],
   "source": [
    "import numpy as np\n",
    "import pywt\n",
    "import matplotlib.pyplot as plt\n",
    "from PIL import Image\n",
    "from sklearn.linear_model import LinearRegression"
   ]
  },
  {
   "cell_type": "code",
   "execution_count": 2,
   "metadata": {},
   "outputs": [],
   "source": [
    "def load_image(image_path):\n",
    "    \"\"\"Load an image and convert it to grayscale.\"\"\"\n",
    "    image = Image.open(image_path).convert('L')\n",
    "    return np.array(image)\n",
    "\n",
    "def compute_multilevel_wavelet_transform(image, wavelet='haar', level=2):\n",
    "    \"\"\"Compute multi-level wavelet decomposition of an image.\"\"\"\n",
    "    coeffs = pywt.wavedec2(image, wavelet, level=level)\n",
    "    return coeffs\n"
   ]
  },
  {
   "cell_type": "code",
   "execution_count": 3,
   "metadata": {},
   "outputs": [],
   "source": [
    "def compute_difference(coeffs1, coeffs2):\n",
    "    \"\"\"Compute the difference in wavelet coefficients between two images.\"\"\"\n",
    "    diff_coeffs = []\n",
    "    for level1, level2 in zip(coeffs1[1:], coeffs2[1:]):  # Skip level 0 (approximation)\n",
    "        # Each level is a tuple (cA, (cH, cV, cD))\n",
    "        cH1, cV1, cD1 = level1[1]\n",
    "        cH2, cV2, cD2 = level2[1]\n",
    "        # Compute differences in detail coefficients\n",
    "        diff_coeffs.append((cH1, cV1, cD1, cH2, cV2, cD2))\n",
    "    return diff_coeffs\n"
   ]
  },
  {
   "cell_type": "code",
   "execution_count": 4,
   "metadata": {},
   "outputs": [],
   "source": [
    "def fit_wavelet_models(coeffs_diff):\n",
    "    \"\"\"Fit linear regression models to minimize error between wavelet coefficients of two images.\"\"\"\n",
    "    model = LinearRegression()\n",
    "    fitted_models = []\n",
    "    for cH1, cV1, cD1, cH2, cV2, cD2 in coeffs_diff:\n",
    "        # Flatten arrays for regression\n",
    "        fitted_models.append(\n",
    "            (model.fit(cH1.reshape(-1, 1), cH2.reshape(-1, 1)).predict(cH1.reshape(-1, 1)),\n",
    "             model.fit(cV1.reshape(-1, 1), cV2.reshape(-1, 1)).predict(cV1.reshape(-1, 1)),\n",
    "             model.fit(cD1.reshape(-1, 1), cD2.reshape(-1, 1)).predict(cD1.reshape(-1, 1)))\n",
    "        )\n",
    "    return fitted_models\n"
   ]
  },
  {
   "cell_type": "code",
   "execution_count": 5,
   "metadata": {},
   "outputs": [],
   "source": [
    "def plot_wavelet_difference(image1_path, image2_path, wavelet='haar', level=2):\n",
    "    \"\"\"Plot the differences in multi-level wavelet transforms of two images using matplotlib.\"\"\"\n",
    "    image1 = load_image(image1_path)\n",
    "    image2 = load_image(image2_path)\n",
    "    coeffs1 = compute_multilevel_wavelet_transform(image1, wavelet, level)\n",
    "    coeffs2 = compute_multilevel_wavelet_transform(image2, wavelet, level)\n",
    "    coeffs_diff = compute_difference(coeffs1, coeffs2)\n",
    "    fitted_models = fit_wavelet_models(coeffs_diff)\n",
    "\n",
    "    nrows, ncols = level, 3  # Define grid for subplots\n",
    "    fig, axes = plt.subplots(nrows=nrows, ncols=ncols, figsize=(ncols*4, nrows*4))\n",
    "    plt.subplots_adjust(hspace=0.5, wspace=0.3)\n",
    "\n",
    "    for i, (dh, dv, dd) in enumerate(fitted_models):\n",
    "        for j, data in enumerate([dh, dv, dd]):\n",
    "            ax = axes[i, j] if nrows > 1 else axes[j]\n",
    "            ax.imshow(data.reshape(coeffs_diff[i][j*2].shape), cmap='gray', aspect='auto')\n",
    "            ax.set_title(f'Level {i+1} - {\"Horizontal\" if j==0 else \"Vertical\" if j==1 else \"Diagonal\"} Fit')\n",
    "            ax.axis('off')\n",
    "\n",
    "    plt.show()\n"
   ]
  },
  {
   "cell_type": "code",
   "execution_count": 6,
   "metadata": {},
   "outputs": [
    {
     "ename": "ValueError",
     "evalue": "too many values to unpack (expected 3)",
     "output_type": "error",
     "traceback": [
      "\u001b[0;31m---------------------------------------------------------------------------\u001b[0m",
      "\u001b[0;31mValueError\u001b[0m                                Traceback (most recent call last)",
      "Cell \u001b[0;32mIn[6], line 4\u001b[0m\n\u001b[1;32m      2\u001b[0m image1_path \u001b[38;5;241m=\u001b[39m \u001b[38;5;124m'\u001b[39m\u001b[38;5;124m/home/admyyh/python_workspace/BasicSR/experiments/train_HMA_SRx2_from_DF2K_250k_smaller/visualization/baby/baby_18500.png\u001b[39m\u001b[38;5;124m'\u001b[39m\n\u001b[1;32m      3\u001b[0m image2_path \u001b[38;5;241m=\u001b[39m \u001b[38;5;124m'\u001b[39m\u001b[38;5;124m/home/admyyh/python_workspace/BasicSR/datasets/Set5/GTmod12/baby.png\u001b[39m\u001b[38;5;124m'\u001b[39m\n\u001b[0;32m----> 4\u001b[0m \u001b[43mplot_wavelet_difference\u001b[49m\u001b[43m(\u001b[49m\u001b[43mimage1_path\u001b[49m\u001b[43m,\u001b[49m\u001b[43m \u001b[49m\u001b[43mimage2_path\u001b[49m\u001b[43m,\u001b[49m\u001b[43m \u001b[49m\u001b[43mwavelet\u001b[49m\u001b[38;5;241;43m=\u001b[39;49m\u001b[38;5;124;43m'\u001b[39;49m\u001b[38;5;124;43mhaar\u001b[39;49m\u001b[38;5;124;43m'\u001b[39;49m\u001b[43m,\u001b[49m\u001b[43m \u001b[49m\u001b[43mlevel\u001b[49m\u001b[38;5;241;43m=\u001b[39;49m\u001b[38;5;241;43m4\u001b[39;49m\u001b[43m)\u001b[49m\n",
      "Cell \u001b[0;32mIn[5], line 7\u001b[0m, in \u001b[0;36mplot_wavelet_difference\u001b[0;34m(image1_path, image2_path, wavelet, level)\u001b[0m\n\u001b[1;32m      5\u001b[0m coeffs1 \u001b[38;5;241m=\u001b[39m compute_multilevel_wavelet_transform(image1, wavelet, level)\n\u001b[1;32m      6\u001b[0m coeffs2 \u001b[38;5;241m=\u001b[39m compute_multilevel_wavelet_transform(image2, wavelet, level)\n\u001b[0;32m----> 7\u001b[0m diff_coeffs \u001b[38;5;241m=\u001b[39m \u001b[43mcompute_difference\u001b[49m\u001b[43m(\u001b[49m\u001b[43mcoeffs1\u001b[49m\u001b[43m,\u001b[49m\u001b[43m \u001b[49m\u001b[43mcoeffs2\u001b[49m\u001b[43m)\u001b[49m\n\u001b[1;32m      8\u001b[0m minimized_errors \u001b[38;5;241m=\u001b[39m minimize_wavelet_errors(diff_coeffs)\n\u001b[1;32m     10\u001b[0m nrows, ncols \u001b[38;5;241m=\u001b[39m level, \u001b[38;5;241m3\u001b[39m  \u001b[38;5;66;03m# Define grid for subplots\u001b[39;00m\n",
      "Cell \u001b[0;32mIn[3], line 6\u001b[0m, in \u001b[0;36mcompute_difference\u001b[0;34m(coeffs1, coeffs2)\u001b[0m\n\u001b[1;32m      3\u001b[0m diff_coeffs \u001b[38;5;241m=\u001b[39m []\n\u001b[1;32m      4\u001b[0m \u001b[38;5;28;01mfor\u001b[39;00m level1, level2 \u001b[38;5;129;01min\u001b[39;00m \u001b[38;5;28mzip\u001b[39m(coeffs1[\u001b[38;5;241m1\u001b[39m:], coeffs2[\u001b[38;5;241m1\u001b[39m:]):  \u001b[38;5;66;03m# Skip level 0 (approximation)\u001b[39;00m\n\u001b[1;32m      5\u001b[0m     \u001b[38;5;66;03m# Each level is a tuple (cA, (cH, cV, cD))\u001b[39;00m\n\u001b[0;32m----> 6\u001b[0m     cH1, cV1, cD1 \u001b[38;5;241m=\u001b[39m level1[\u001b[38;5;241m1\u001b[39m]\n\u001b[1;32m      7\u001b[0m     cH2, cV2, cD2 \u001b[38;5;241m=\u001b[39m level2[\u001b[38;5;241m1\u001b[39m]\n\u001b[1;32m      8\u001b[0m     \u001b[38;5;66;03m# Compute differences in detail coefficients\u001b[39;00m\n",
      "\u001b[0;31mValueError\u001b[0m: too many values to unpack (expected 3)"
     ]
    }
   ],
   "source": [
    "\n",
    "# Example usage\n",
    "image1_path = '/home/admyyh/python_workspace/BasicSR/experiments/train_HMA_SRx2_from_DF2K_250k_smaller/visualization/baby/baby_18500.png'\n",
    "image2_path = '/home/admyyh/python_workspace/BasicSR/datasets/Set5/GTmod12/baby.png'\n",
    "plot_wavelet_difference(image1_path, image2_path, wavelet='haar', level=4)\n"
   ]
  },
  {
   "cell_type": "code",
   "execution_count": null,
   "metadata": {},
   "outputs": [],
   "source": []
  }
 ],
 "metadata": {
  "kernelspec": {
   "display_name": "basicsr",
   "language": "python",
   "name": "python3"
  },
  "language_info": {
   "codemirror_mode": {
    "name": "ipython",
    "version": 3
   },
   "file_extension": ".py",
   "mimetype": "text/x-python",
   "name": "python",
   "nbconvert_exporter": "python",
   "pygments_lexer": "ipython3",
   "version": "3.11.11"
  }
 },
 "nbformat": 4,
 "nbformat_minor": 2
}
